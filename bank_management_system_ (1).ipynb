{
 "cells": [
  {
   "cell_type": "markdown",
   "id": "9bca576b",
   "metadata": {},
   "source": [
    "# Assignment"
   ]
  },
  {
   "cell_type": "code",
   "execution_count": 1,
   "id": "96c81634",
   "metadata": {},
   "outputs": [],
   "source": [
    "import sys\n",
    "def sub_service(m,ac):\n",
    "    amt = data[ac]['Balance']\n",
    "    if m ==1:\n",
    "        print(\"Available Balance = Rs \",amt)\n",
    "    if m==2:\n",
    "        dep= int(input(\"Enter the amount to deposit = Rs \"))\n",
    "        amt += dep\n",
    "        print(\"Deposite successful \\n Available Balance = Rs \",amt,\"\\n------------------------------------------------------------------\")\n",
    "        data[ac]['Balance']= amt\n",
    "   \n",
    "    if m==3:\n",
    "        withdraw(amt,ac)\n",
    "   \n",
    "    if m>3:\n",
    "        print(\"Please enter the valid option\")\n",
    "        op2=int(input(\"Enter the choice : \"))\n",
    "        sub_service(op2,ac)\n",
    "        \n",
    "def withdraw(amt,ac):\n",
    "    wid= int(input(\"Enter the amount withdraw = Rs \"))\n",
    "    if wid>amt:\n",
    "        print(f\"You do not have enough balance to withdraw,your current balance is {amt}\")\n",
    "        withdraw(amt,ac)\n",
    "    else:    \n",
    "        amt -= wid\n",
    "        print(\"Withdraw successful \\n Available Balance = Rs \",amt,\"\\n------------------------------------------------------------------\")\n",
    "        data[ac]['Balance']= amt\n",
    "        \n",
    "        \n",
    "def existing_customer():\n",
    "    ac=int(input(\"Account_no. :\"))\n",
    "    if ac in data.keys():\n",
    "        print(f\"Record found. Customer_name : {data[ac]['Name']}\")\n",
    "        print(\"please choose Any one option .\\n1 Check Balance .\\n2 Deposit.\\n3 Withdraw\")\n",
    "        \n",
    "        op1=int(input(\"Enter the choice : \"))\n",
    "        sub_service(op1,ac)\n",
    "    else:\n",
    "        print(\"Record not found\")\n",
    "        existing_customer()\n",
    "        \n",
    "def cl(f):\n",
    "    global data \n",
    "    if f==1:\n",
    "        print(\"Enter the below details about new customer\")\n",
    "\n",
    "        c=int(input(\"Account no. :\"))\n",
    "        t=input(\"customer_name :\")\n",
    "        b=input(\"Address :\")\n",
    "            \n",
    "        d=input(\"Account_type :\")\n",
    "        e=int(input(\"deposite ammount :\"))\n",
    "        data[c]={'Name':t,\"Address\":b,\"Ac_type\":d,\"Balance\":e}\n",
    "        print(\"Account has created\")  \n",
    "        print(data)\n",
    "        we=input(\"More account create ?(Y/N) \")\n",
    "        if we.upper()=='Y':\n",
    "            cl(f)\n",
    "        else:    \n",
    "            main() \n",
    "            \n",
    "    elif f==2:   \n",
    "            existing_customer()\n",
    "   \n",
    "          \n",
    "                    \n",
    "            "
   ]
  },
  {
   "cell_type": "code",
   "execution_count": 2,
   "id": "0c61d12e",
   "metadata": {},
   "outputs": [],
   "source": [
    "def main():\n",
    "    print(\"-------------------------------------------\")\n",
    "    print(\"          BANK MANAGEMENT SYSTEM           \")\n",
    "    print(\"-------------------------------------------\")\n",
    "    print(\"please choose Any one option .\\n1 New customer .\\n2 Existing Customer Details.\\n3 Exit\")\n",
    "    a = int(input(\"Enter the choise from 1 to 3: \"))\n",
    "    cl(a)\n",
    "    if a!=3:\n",
    "        eo=input(\"Do you want to continue? (Y/N)\").upper()\n",
    "        if eo=='N':\n",
    "            exit()\n",
    "        else:\n",
    "            main()\n",
    "        \n",
    "        "
   ]
  },
  {
   "cell_type": "code",
   "execution_count": null,
   "id": "788a8d18",
   "metadata": {},
   "outputs": [
    {
     "name": "stdout",
     "output_type": "stream",
     "text": [
      "-------------------------------------------\n",
      "          BANK MANAGEMENT SYSTEM           \n",
      "-------------------------------------------\n",
      "please choose Any one option .\n",
      "1 New customer .\n",
      "2 Existing Customer Details.\n",
      "3 Exit\n",
      "Enter the choise from 1 to 3: 1\n",
      "Enter the below details about new customer\n",
      "Account no. :12\n",
      "customer_name :nhg\n",
      "Address :oijh\n",
      "Account_type :234\n",
      "deposite ammount :12\n",
      "Account has created\n",
      "{12: {'Name': 'nhg', 'Address': 'oijh', 'Ac_type': '234', 'Balance': 12}}\n",
      "More account create ?(Y/N) n\n",
      "-------------------------------------------\n",
      "          BANK MANAGEMENT SYSTEM           \n",
      "-------------------------------------------\n",
      "please choose Any one option .\n",
      "1 New customer .\n",
      "2 Existing Customer Details.\n",
      "3 Exit\n",
      "Enter the choise from 1 to 3: 2\n",
      "Account_no. :12\n",
      "Record found. Customer_name : nhg\n",
      "please choose Any one option .\n",
      "1 Check Balance .\n",
      "2 Deposit.\n",
      "3 Withdraw\n"
     ]
    }
   ],
   "source": [
    "data = {}\n",
    "main()"
   ]
  },
  {
   "cell_type": "code",
   "execution_count": 1,
   "id": "8b9d608c",
   "metadata": {},
   "outputs": [
    {
     "name": "stdout",
     "output_type": "stream",
     "text": [
      "2024-05-14\n"
     ]
    }
   ],
   "source": [
    "import datetime\n",
    "today = datetime.date.today()\n",
    "print(today)"
   ]
  },
  {
   "cell_type": "code",
   "execution_count": 6,
   "id": "e7f8e853",
   "metadata": {},
   "outputs": [
    {
     "ename": "TypeError",
     "evalue": "can only concatenate str (not \"int\") to str",
     "output_type": "error",
     "traceback": [
      "\u001b[1;31m---------------------------------------------------------------------------\u001b[0m",
      "\u001b[1;31mTypeError\u001b[0m                                 Traceback (most recent call last)",
      "Cell \u001b[1;32mIn[6], line 2\u001b[0m\n\u001b[0;32m      1\u001b[0m \u001b[38;5;28;01mimport\u001b[39;00m \u001b[38;5;21;01mrandom\u001b[39;00m\n\u001b[1;32m----> 2\u001b[0m num \u001b[38;5;241m=\u001b[39m random\u001b[38;5;241m.\u001b[39mrandint(\u001b[38;5;124m'\u001b[39m\u001b[38;5;124mds0112\u001b[39m\u001b[38;5;124m'\u001b[39m,\u001b[38;5;124m'\u001b[39m\u001b[38;5;124mds1000\u001b[39m\u001b[38;5;124m'\u001b[39m)\n\u001b[0;32m      3\u001b[0m \u001b[38;5;28mprint\u001b[39m(num)\n",
      "File \u001b[1;32mC:\\ProgramData\\anaconda\\Lib\\random.py:362\u001b[0m, in \u001b[0;36mRandom.randint\u001b[1;34m(self, a, b)\u001b[0m\n\u001b[0;32m    358\u001b[0m \u001b[38;5;28;01mdef\u001b[39;00m \u001b[38;5;21mrandint\u001b[39m(\u001b[38;5;28mself\u001b[39m, a, b):\n\u001b[0;32m    359\u001b[0m \u001b[38;5;250m    \u001b[39m\u001b[38;5;124;03m\"\"\"Return random integer in range [a, b], including both end points.\u001b[39;00m\n\u001b[0;32m    360\u001b[0m \u001b[38;5;124;03m    \"\"\"\u001b[39;00m\n\u001b[1;32m--> 362\u001b[0m     \u001b[38;5;28;01mreturn\u001b[39;00m \u001b[38;5;28mself\u001b[39m\u001b[38;5;241m.\u001b[39mrandrange(a, b\u001b[38;5;241m+\u001b[39m\u001b[38;5;241m1\u001b[39m)\n",
      "\u001b[1;31mTypeError\u001b[0m: can only concatenate str (not \"int\") to str"
     ]
    }
   ],
   "source": [
    "import random\n",
    "num = random.randint\n",
    "print(num)"
   ]
  }
 ],
 "metadata": {
  "kernelspec": {
   "display_name": "Python 3 (ipykernel)",
   "language": "python",
   "name": "python3"
  },
  "language_info": {
   "codemirror_mode": {
    "name": "ipython",
    "version": 3
   },
   "file_extension": ".py",
   "mimetype": "text/x-python",
   "name": "python",
   "nbconvert_exporter": "python",
   "pygments_lexer": "ipython3",
   "version": "3.11.5"
  }
 },
 "nbformat": 4,
 "nbformat_minor": 5
}
